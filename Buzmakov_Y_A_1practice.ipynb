{
  "nbformat": 4,
  "nbformat_minor": 0,
  "metadata": {
    "kernelspec": {
      "display_name": "Python 3",
      "language": "python",
      "name": "python3"
    },
    "language_info": {
      "codemirror_mode": {
        "name": "ipython",
        "version": 3
      },
      "file_extension": ".py",
      "mimetype": "text/x-python",
      "name": "python",
      "nbconvert_exporter": "python",
      "pygments_lexer": "ipython3",
      "version": "3.8.8"
    },
    "colab": {
      "provenance": []
    }
  },
  "cells": [
    {
      "cell_type": "markdown",
      "metadata": {
        "id": "s5oU2Q5R3f3n"
      },
      "source": [
        "Проверим, что у вас подключена возможность работы с SQL"
      ]
    },
    {
      "cell_type": "code",
      "metadata": {
        "id": "ct9OpQ853f3n",
        "outputId": "f152a258-249a-4759-fe51-9e5bb1cdc855",
        "colab": {
          "base_uri": "https://localhost:8080/"
        }
      },
      "source": [
        "%load_ext sql\n",
        "%sql sqlite://"
      ],
      "execution_count": 31,
      "outputs": [
        {
          "output_type": "stream",
          "name": "stdout",
          "text": [
            "The sql extension is already loaded. To reload it, use:\n",
            "  %reload_ext sql\n"
          ]
        }
      ]
    },
    {
      "cell_type": "markdown",
      "metadata": {
        "id": "nMjULTOr3f3p"
      },
      "source": [
        "Создадим таблицу специальностей со следующими полями:\n",
        "1. id - уникальный идентификатор специальности\n",
        "2. Name - Специальность"
      ]
    },
    {
      "cell_type": "code",
      "metadata": {
        "id": "ZjlRJsr63f3p",
        "colab": {
          "base_uri": "https://localhost:8080/"
        },
        "outputId": "52dcf9ed-ba10-4d4c-d7d4-4ecf4e51ad5f"
      },
      "source": [
        "%%sql\n",
        "DROP TABLE IF EXISTS Specialities;\n",
        "\n",
        "CREATE TABLE Specialities\n",
        "(\n",
        "    id integer PRIMARY KEY,\n",
        "    name varchar(50)\n",
        ");"
      ],
      "execution_count": 32,
      "outputs": [
        {
          "output_type": "stream",
          "name": "stdout",
          "text": [
            " * sqlite://\n",
            "Done.\n",
            "Done.\n"
          ]
        },
        {
          "output_type": "execute_result",
          "data": {
            "text/plain": [
              "[]"
            ]
          },
          "metadata": {},
          "execution_count": 32
        }
      ]
    },
    {
      "cell_type": "markdown",
      "metadata": {
        "id": "vNpV5jjw3f3q"
      },
      "source": [
        "Проверим, что таблица создана"
      ]
    },
    {
      "cell_type": "code",
      "metadata": {
        "id": "PHGSKu2-3f3q",
        "colab": {
          "base_uri": "https://localhost:8080/",
          "height": 75
        },
        "outputId": "a65020d7-c766-4e2f-906c-f75dfe2634b7"
      },
      "source": [
        "%sql select * from Specialities"
      ],
      "execution_count": 33,
      "outputs": [
        {
          "output_type": "stream",
          "name": "stdout",
          "text": [
            " * sqlite://\n",
            "Done.\n"
          ]
        },
        {
          "output_type": "execute_result",
          "data": {
            "text/plain": [
              "[]"
            ],
            "text/html": [
              "<table>\n",
              "    <thead>\n",
              "        <tr>\n",
              "            <th>id</th>\n",
              "            <th>name</th>\n",
              "        </tr>\n",
              "    </thead>\n",
              "    <tbody>\n",
              "    </tbody>\n",
              "</table>"
            ]
          },
          "metadata": {},
          "execution_count": 33
        }
      ]
    },
    {
      "cell_type": "markdown",
      "metadata": {
        "id": "NNU1lQAT3f3q"
      },
      "source": [
        "Заполним таблицу данными"
      ]
    },
    {
      "cell_type": "code",
      "metadata": {
        "id": "ffoy8GBQ3f3r",
        "colab": {
          "base_uri": "https://localhost:8080/"
        },
        "outputId": "6e86f58f-3b36-4cf2-c0c3-d361c8b5419b"
      },
      "source": [
        "%%sql\n",
        "INSERT INTO Specialities(name) VALUES -- Автоинкрементация по PRIMARY KEY\n",
        "('Биотехнические системы и технологии'),\n",
        "('Компьютерная безопасность'),\n",
        "('Прикладная математика и информатика'),\n",
        "('Мехатроника и робототехника'),\n",
        "('Системный анализ и управление'),\n",
        "('Информационная безопасность телекоммуникационных систем'),\n",
        "('Управление в технических системах');"
      ],
      "execution_count": 34,
      "outputs": [
        {
          "output_type": "stream",
          "name": "stdout",
          "text": [
            " * sqlite://\n",
            "7 rows affected.\n"
          ]
        },
        {
          "output_type": "execute_result",
          "data": {
            "text/plain": [
              "[]"
            ]
          },
          "metadata": {},
          "execution_count": 34
        }
      ]
    },
    {
      "cell_type": "markdown",
      "metadata": {
        "id": "Nbtm_2rx3f3r"
      },
      "source": [
        "SQLite требует включение поддержки внешних ключей.\n",
        "Более подробно можно посмотреть [здесь](https://sqlite.org/foreignkeys.html)"
      ]
    },
    {
      "cell_type": "code",
      "metadata": {
        "id": "QOcQJLCr3f3r",
        "colab": {
          "base_uri": "https://localhost:8080/"
        },
        "outputId": "3da910b1-727e-4811-a85f-c4645e63dff3"
      },
      "source": [
        "%%sql\n",
        "PRAGMA foreign_keys = ON;"
      ],
      "execution_count": 35,
      "outputs": [
        {
          "output_type": "stream",
          "name": "stdout",
          "text": [
            " * sqlite://\n",
            "Done.\n"
          ]
        },
        {
          "output_type": "execute_result",
          "data": {
            "text/plain": [
              "[]"
            ]
          },
          "metadata": {},
          "execution_count": 35
        }
      ]
    },
    {
      "cell_type": "markdown",
      "metadata": {
        "id": "CMPVyr0G3f3s"
      },
      "source": [
        "Создадим таблицу Студентов со следующими полями:\n",
        "1. Student_id - уникальный идентификатор студента\n",
        "2. Name - имя студента\n",
        "3. Second Name - фамилия студента\n",
        "4. Speciality - специальность студента\n",
        "5. StudyGroup - группа студента\n",
        "6. GPA - средний балл"
      ]
    },
    {
      "cell_type": "code",
      "metadata": {
        "id": "iH4QwAPL3f3s",
        "colab": {
          "base_uri": "https://localhost:8080/"
        },
        "outputId": "793318e4-399f-4f7c-b348-2278510f7dce"
      },
      "source": [
        "%%sql\n",
        "DROP TABLE IF EXISTS Students;\n",
        "\n",
        "CREATE TABLE Students\n",
        "(\n",
        "    student_id integer PRIMARY KEY,\n",
        "    name varchar(50),\n",
        "    secondName varchar(50),\n",
        "    speciality_id integer,\n",
        "    studyGroup varchar(20),\n",
        "    GPA decimal(1,1),\n",
        "    FOREIGN KEY (Speciality_id) REFERENCES Specialities(id)\n",
        ");"
      ],
      "execution_count": 36,
      "outputs": [
        {
          "output_type": "stream",
          "name": "stdout",
          "text": [
            " * sqlite://\n",
            "Done.\n",
            "Done.\n"
          ]
        },
        {
          "output_type": "execute_result",
          "data": {
            "text/plain": [
              "[]"
            ]
          },
          "metadata": {},
          "execution_count": 36
        }
      ]
    },
    {
      "cell_type": "markdown",
      "metadata": {
        "id": "9hb9w8oC3f3s"
      },
      "source": [
        "Проверим, что таблица создана"
      ]
    },
    {
      "cell_type": "code",
      "metadata": {
        "id": "6IMmHj9J3f3s",
        "colab": {
          "base_uri": "https://localhost:8080/",
          "height": 75
        },
        "outputId": "b4dc95b3-b167-410f-866e-bde47c30e68d"
      },
      "source": [
        "%sql select * from Students"
      ],
      "execution_count": 37,
      "outputs": [
        {
          "output_type": "stream",
          "name": "stdout",
          "text": [
            " * sqlite://\n",
            "Done.\n"
          ]
        },
        {
          "output_type": "execute_result",
          "data": {
            "text/plain": [
              "[]"
            ],
            "text/html": [
              "<table>\n",
              "    <thead>\n",
              "        <tr>\n",
              "            <th>student_id</th>\n",
              "            <th>name</th>\n",
              "            <th>secondName</th>\n",
              "            <th>speciality_id</th>\n",
              "            <th>studyGroup</th>\n",
              "            <th>GPA</th>\n",
              "        </tr>\n",
              "    </thead>\n",
              "    <tbody>\n",
              "    </tbody>\n",
              "</table>"
            ]
          },
          "metadata": {},
          "execution_count": 37
        }
      ]
    },
    {
      "cell_type": "markdown",
      "metadata": {
        "id": "5rUU1gfv3f3t"
      },
      "source": [
        "Заполним таблицу данными"
      ]
    },
    {
      "cell_type": "code",
      "metadata": {
        "id": "PISGbGrC3f3t",
        "colab": {
          "base_uri": "https://localhost:8080/"
        },
        "outputId": "f68f4a50-55a7-43e3-bffe-0637d1231ac9"
      },
      "source": [
        "%%sql\n",
        "insert into Students(student_id, SecondName, Name, Speciality_id, StudyGroup, GPA) VALUES (1, 'Альянов', 'Николай', 1, '04-25', 3.58);\n",
        "insert into Students(student_id, SecondName, Name, Speciality_id, StudyGroup, GPA) VALUES (2, 'Киселева', 'Ева', 1, '01-25', 4.58);\n",
        "insert into Students(student_id, SecondName, Name, Speciality_id, StudyGroup, GPA) VALUES (3, 'Исаева', 'Анна', 1, '01-25', 4.75);\n",
        "insert into Students(student_id, SecondName, Name, Speciality_id, StudyGroup, GPA) VALUES (4, 'Егоров', 'Павел', 2, '01-25', 4.83);\n",
        "insert into Students(student_id, SecondName, Name, Speciality_id, StudyGroup, GPA) VALUES (5, 'Тихомиров', 'Тимофей', 2, '03-25', 4.18);\n",
        "insert into Students(student_id, SecondName, Name, Speciality_id, StudyGroup, GPA) VALUES (6, 'Ширшов', 'Александр', 2, '06-25', 3.91);\n",
        "insert into Students(student_id, SecondName, Name, Speciality_id, StudyGroup, GPA) VALUES (7, 'Фатеев', 'Максим', 3, '05-25', 3.8);\n",
        "insert into Students(student_id, SecondName, Name, Speciality_id, StudyGroup, GPA) VALUES (8, 'Киселев', 'Петр',  3, '05-25', 3.5);\n",
        "insert into Students(student_id, SecondName, Name, Speciality_id, StudyGroup, GPA) VALUES (9, 'Агашкина', 'Дарья', 4, '02-25', 4.18);\n",
        "insert into Students(student_id, SecondName, Name, Speciality_id, StudyGroup, GPA) VALUES (11, 'Комарова', 'Екатерина', 6, '02-25', 4.83);\n",
        "insert into Students(student_id, SecondName, Name, Speciality_id, StudyGroup, GPA) VALUES (12, 'Челыхов', 'Иван', 6, '06-25', 4.45);\n",
        "insert into Students(student_id, SecondName, Name, Speciality_id, StudyGroup, GPA) VALUES (13, 'Назаров', 'Александр', 6, '06-25', 3.73);\n",
        "insert into Students(student_id, SecondName, Name, Speciality_id, StudyGroup, GPA) VALUES (14, 'Горлова', 'Ксения', 7, '01-25', 5);\n",
        "insert into Students(student_id, SecondName, Name, Speciality_id, StudyGroup, GPA) VALUES (17, 'Горин', 'Олег', 5, '01-25', 3.89);\n",
        "insert into Students(student_id, SecondName, Name, Speciality_id, StudyGroup, GPA) VALUES (18, 'Остапенко', 'Алексей', 5, '04-25', 3.81);\n",
        "insert into Students(student_id, SecondName, Name, Speciality_id, StudyGroup, GPA) VALUES (19, 'Антонникова', 'Валерия', 5, '04-25', 4.89);\n",
        "insert into Students(student_id, SecondName, Name, Speciality_id, StudyGroup, GPA) VALUES (20, 'Котова', 'Евгения', 3, '05-25', 4.29);"
      ],
      "execution_count": 38,
      "outputs": [
        {
          "output_type": "stream",
          "name": "stdout",
          "text": [
            " * sqlite://\n",
            "1 rows affected.\n",
            "1 rows affected.\n",
            "1 rows affected.\n",
            "1 rows affected.\n",
            "1 rows affected.\n",
            "1 rows affected.\n",
            "1 rows affected.\n",
            "1 rows affected.\n",
            "1 rows affected.\n",
            "1 rows affected.\n",
            "1 rows affected.\n",
            "1 rows affected.\n",
            "1 rows affected.\n",
            "1 rows affected.\n",
            "1 rows affected.\n",
            "1 rows affected.\n",
            "1 rows affected.\n"
          ]
        },
        {
          "output_type": "execute_result",
          "data": {
            "text/plain": [
              "[]"
            ]
          },
          "metadata": {},
          "execution_count": 38
        }
      ]
    },
    {
      "cell_type": "markdown",
      "metadata": {
        "id": "ikX4Z-jW3f3t"
      },
      "source": [
        "Проверим наличие данных"
      ]
    },
    {
      "cell_type": "code",
      "metadata": {
        "id": "eq9zXRxN3f3u",
        "colab": {
          "base_uri": "https://localhost:8080/",
          "height": 423
        },
        "outputId": "eb1a1bdb-99a3-4ec5-eb6c-a9e9465ec6af"
      },
      "source": [
        "%sql select * from Students;"
      ],
      "execution_count": 39,
      "outputs": [
        {
          "output_type": "stream",
          "name": "stdout",
          "text": [
            " * sqlite://\n",
            "Done.\n"
          ]
        },
        {
          "output_type": "execute_result",
          "data": {
            "text/plain": [
              "[(1, 'Николай', 'Альянов', 1, '04-25', 3.58),\n",
              " (2, 'Ева', 'Киселева', 1, '01-25', 4.58),\n",
              " (3, 'Анна', 'Исаева', 1, '01-25', 4.75),\n",
              " (4, 'Павел', 'Егоров', 2, '01-25', 4.83),\n",
              " (5, 'Тимофей', 'Тихомиров', 2, '03-25', 4.18),\n",
              " (6, 'Александр', 'Ширшов', 2, '06-25', 3.91),\n",
              " (7, 'Максим', 'Фатеев', 3, '05-25', 3.8),\n",
              " (8, 'Петр', 'Киселев', 3, '05-25', 3.5),\n",
              " (9, 'Дарья', 'Агашкина', 4, '02-25', 4.18),\n",
              " (11, 'Екатерина', 'Комарова', 6, '02-25', 4.83),\n",
              " (12, 'Иван', 'Челыхов', 6, '06-25', 4.45),\n",
              " (13, 'Александр', 'Назаров', 6, '06-25', 3.73),\n",
              " (14, 'Ксения', 'Горлова', 7, '01-25', 5),\n",
              " (17, 'Олег', 'Горин', 5, '01-25', 3.89),\n",
              " (18, 'Алексей', 'Остапенко', 5, '04-25', 3.81),\n",
              " (19, 'Валерия', 'Антонникова', 5, '04-25', 4.89),\n",
              " (20, 'Евгения', 'Котова', 3, '05-25', 4.29)]"
            ],
            "text/html": [
              "<table>\n",
              "    <thead>\n",
              "        <tr>\n",
              "            <th>student_id</th>\n",
              "            <th>name</th>\n",
              "            <th>secondName</th>\n",
              "            <th>speciality_id</th>\n",
              "            <th>studyGroup</th>\n",
              "            <th>GPA</th>\n",
              "        </tr>\n",
              "    </thead>\n",
              "    <tbody>\n",
              "        <tr>\n",
              "            <td>1</td>\n",
              "            <td>Николай</td>\n",
              "            <td>Альянов</td>\n",
              "            <td>1</td>\n",
              "            <td>04-25</td>\n",
              "            <td>3.58</td>\n",
              "        </tr>\n",
              "        <tr>\n",
              "            <td>2</td>\n",
              "            <td>Ева</td>\n",
              "            <td>Киселева</td>\n",
              "            <td>1</td>\n",
              "            <td>01-25</td>\n",
              "            <td>4.58</td>\n",
              "        </tr>\n",
              "        <tr>\n",
              "            <td>3</td>\n",
              "            <td>Анна</td>\n",
              "            <td>Исаева</td>\n",
              "            <td>1</td>\n",
              "            <td>01-25</td>\n",
              "            <td>4.75</td>\n",
              "        </tr>\n",
              "        <tr>\n",
              "            <td>4</td>\n",
              "            <td>Павел</td>\n",
              "            <td>Егоров</td>\n",
              "            <td>2</td>\n",
              "            <td>01-25</td>\n",
              "            <td>4.83</td>\n",
              "        </tr>\n",
              "        <tr>\n",
              "            <td>5</td>\n",
              "            <td>Тимофей</td>\n",
              "            <td>Тихомиров</td>\n",
              "            <td>2</td>\n",
              "            <td>03-25</td>\n",
              "            <td>4.18</td>\n",
              "        </tr>\n",
              "        <tr>\n",
              "            <td>6</td>\n",
              "            <td>Александр</td>\n",
              "            <td>Ширшов</td>\n",
              "            <td>2</td>\n",
              "            <td>06-25</td>\n",
              "            <td>3.91</td>\n",
              "        </tr>\n",
              "        <tr>\n",
              "            <td>7</td>\n",
              "            <td>Максим</td>\n",
              "            <td>Фатеев</td>\n",
              "            <td>3</td>\n",
              "            <td>05-25</td>\n",
              "            <td>3.8</td>\n",
              "        </tr>\n",
              "        <tr>\n",
              "            <td>8</td>\n",
              "            <td>Петр</td>\n",
              "            <td>Киселев</td>\n",
              "            <td>3</td>\n",
              "            <td>05-25</td>\n",
              "            <td>3.5</td>\n",
              "        </tr>\n",
              "        <tr>\n",
              "            <td>9</td>\n",
              "            <td>Дарья</td>\n",
              "            <td>Агашкина</td>\n",
              "            <td>4</td>\n",
              "            <td>02-25</td>\n",
              "            <td>4.18</td>\n",
              "        </tr>\n",
              "        <tr>\n",
              "            <td>11</td>\n",
              "            <td>Екатерина</td>\n",
              "            <td>Комарова</td>\n",
              "            <td>6</td>\n",
              "            <td>02-25</td>\n",
              "            <td>4.83</td>\n",
              "        </tr>\n",
              "        <tr>\n",
              "            <td>12</td>\n",
              "            <td>Иван</td>\n",
              "            <td>Челыхов</td>\n",
              "            <td>6</td>\n",
              "            <td>06-25</td>\n",
              "            <td>4.45</td>\n",
              "        </tr>\n",
              "        <tr>\n",
              "            <td>13</td>\n",
              "            <td>Александр</td>\n",
              "            <td>Назаров</td>\n",
              "            <td>6</td>\n",
              "            <td>06-25</td>\n",
              "            <td>3.73</td>\n",
              "        </tr>\n",
              "        <tr>\n",
              "            <td>14</td>\n",
              "            <td>Ксения</td>\n",
              "            <td>Горлова</td>\n",
              "            <td>7</td>\n",
              "            <td>01-25</td>\n",
              "            <td>5</td>\n",
              "        </tr>\n",
              "        <tr>\n",
              "            <td>17</td>\n",
              "            <td>Олег</td>\n",
              "            <td>Горин</td>\n",
              "            <td>5</td>\n",
              "            <td>01-25</td>\n",
              "            <td>3.89</td>\n",
              "        </tr>\n",
              "        <tr>\n",
              "            <td>18</td>\n",
              "            <td>Алексей</td>\n",
              "            <td>Остапенко</td>\n",
              "            <td>5</td>\n",
              "            <td>04-25</td>\n",
              "            <td>3.81</td>\n",
              "        </tr>\n",
              "        <tr>\n",
              "            <td>19</td>\n",
              "            <td>Валерия</td>\n",
              "            <td>Антонникова</td>\n",
              "            <td>5</td>\n",
              "            <td>04-25</td>\n",
              "            <td>4.89</td>\n",
              "        </tr>\n",
              "        <tr>\n",
              "            <td>20</td>\n",
              "            <td>Евгения</td>\n",
              "            <td>Котова</td>\n",
              "            <td>3</td>\n",
              "            <td>05-25</td>\n",
              "            <td>4.29</td>\n",
              "        </tr>\n",
              "    </tbody>\n",
              "</table>"
            ]
          },
          "metadata": {},
          "execution_count": 39
        }
      ]
    },
    {
      "cell_type": "code",
      "metadata": {
        "id": "yYtrbXwa3f3u",
        "colab": {
          "base_uri": "https://localhost:8080/",
          "height": 218
        },
        "outputId": "b19401f3-b9d5-49d7-dca9-d7e5005827c8"
      },
      "source": [
        "%sql select * from Specialities;"
      ],
      "execution_count": 40,
      "outputs": [
        {
          "output_type": "stream",
          "name": "stdout",
          "text": [
            " * sqlite://\n",
            "Done.\n"
          ]
        },
        {
          "output_type": "execute_result",
          "data": {
            "text/plain": [
              "[(1, 'Биотехнические системы и технологии'),\n",
              " (2, 'Компьютерная безопасность'),\n",
              " (3, 'Прикладная математика и информатика'),\n",
              " (4, 'Мехатроника и робототехника'),\n",
              " (5, 'Системный анализ и управление'),\n",
              " (6, 'Информационная безопасность телекоммуникационных систем'),\n",
              " (7, 'Управление в технических системах')]"
            ],
            "text/html": [
              "<table>\n",
              "    <thead>\n",
              "        <tr>\n",
              "            <th>id</th>\n",
              "            <th>name</th>\n",
              "        </tr>\n",
              "    </thead>\n",
              "    <tbody>\n",
              "        <tr>\n",
              "            <td>1</td>\n",
              "            <td>Биотехнические системы и технологии</td>\n",
              "        </tr>\n",
              "        <tr>\n",
              "            <td>2</td>\n",
              "            <td>Компьютерная безопасность</td>\n",
              "        </tr>\n",
              "        <tr>\n",
              "            <td>3</td>\n",
              "            <td>Прикладная математика и информатика</td>\n",
              "        </tr>\n",
              "        <tr>\n",
              "            <td>4</td>\n",
              "            <td>Мехатроника и робототехника</td>\n",
              "        </tr>\n",
              "        <tr>\n",
              "            <td>5</td>\n",
              "            <td>Системный анализ и управление</td>\n",
              "        </tr>\n",
              "        <tr>\n",
              "            <td>6</td>\n",
              "            <td>Информационная безопасность телекоммуникационных систем</td>\n",
              "        </tr>\n",
              "        <tr>\n",
              "            <td>7</td>\n",
              "            <td>Управление в технических системах</td>\n",
              "        </tr>\n",
              "    </tbody>\n",
              "</table>"
            ]
          },
          "metadata": {},
          "execution_count": 40
        }
      ]
    },
    {
      "cell_type": "markdown",
      "metadata": {
        "id": "aC50VcAG3f3u"
      },
      "source": [
        "## Задание 1. Напишите SQL-запрос, возвращающий фамилии всех студентов с именем Александр"
      ]
    },
    {
      "cell_type": "code",
      "metadata": {
        "id": "LNHUYlRElNNm",
        "outputId": "2a654bbe-b6c1-45e8-d46e-698009c1c293",
        "colab": {
          "base_uri": "https://localhost:8080/",
          "height": 116
        }
      },
      "source": [
        "%%sql\n",
        "select secondName\n",
        "from Students\n",
        "where name = \"Александр\";"
      ],
      "execution_count": 41,
      "outputs": [
        {
          "output_type": "stream",
          "name": "stdout",
          "text": [
            " * sqlite://\n",
            "Done.\n"
          ]
        },
        {
          "output_type": "execute_result",
          "data": {
            "text/plain": [
              "[('Ширшов',), ('Назаров',)]"
            ],
            "text/html": [
              "<table>\n",
              "    <thead>\n",
              "        <tr>\n",
              "            <th>secondName</th>\n",
              "        </tr>\n",
              "    </thead>\n",
              "    <tbody>\n",
              "        <tr>\n",
              "            <td>Ширшов</td>\n",
              "        </tr>\n",
              "        <tr>\n",
              "            <td>Назаров</td>\n",
              "        </tr>\n",
              "    </tbody>\n",
              "</table>"
            ]
          },
          "metadata": {},
          "execution_count": 41
        }
      ]
    },
    {
      "cell_type": "markdown",
      "metadata": {
        "id": "Hi4QfjHx3f3v"
      },
      "source": [
        "## Задание 2. Выведите все названия специальностей, на которых учится хотя бы один студент со средним баллом 4.5 и выше. Имя специальности должно встречаться один раз в выводе"
      ]
    },
    {
      "cell_type": "code",
      "metadata": {
        "id": "RH5DOJz83f3v",
        "outputId": "3d20e9dd-d6dc-4157-f67d-15611da32ace",
        "colab": {
          "base_uri": "https://localhost:8080/",
          "height": 178
        }
      },
      "source": [
        "%%sql\n",
        "SELECT DISTINCT name from Specialities\n",
        "where id in (select speciality_id from students where GPA >= 4.5);"
      ],
      "execution_count": 42,
      "outputs": [
        {
          "output_type": "stream",
          "name": "stdout",
          "text": [
            " * sqlite://\n",
            "Done.\n"
          ]
        },
        {
          "output_type": "execute_result",
          "data": {
            "text/plain": [
              "[('Биотехнические системы и технологии',),\n",
              " ('Компьютерная безопасность',),\n",
              " ('Системный анализ и управление',),\n",
              " ('Информационная безопасность телекоммуникационных систем',),\n",
              " ('Управление в технических системах',)]"
            ],
            "text/html": [
              "<table>\n",
              "    <thead>\n",
              "        <tr>\n",
              "            <th>name</th>\n",
              "        </tr>\n",
              "    </thead>\n",
              "    <tbody>\n",
              "        <tr>\n",
              "            <td>Биотехнические системы и технологии</td>\n",
              "        </tr>\n",
              "        <tr>\n",
              "            <td>Компьютерная безопасность</td>\n",
              "        </tr>\n",
              "        <tr>\n",
              "            <td>Системный анализ и управление</td>\n",
              "        </tr>\n",
              "        <tr>\n",
              "            <td>Информационная безопасность телекоммуникационных систем</td>\n",
              "        </tr>\n",
              "        <tr>\n",
              "            <td>Управление в технических системах</td>\n",
              "        </tr>\n",
              "    </tbody>\n",
              "</table>"
            ]
          },
          "metadata": {},
          "execution_count": 42
        }
      ]
    },
    {
      "cell_type": "markdown",
      "metadata": {
        "collapsed": true,
        "id": "tjapuoH13f3v"
      },
      "source": [
        "## Задание 3. Вывести только тех студентов, фамилия которых начинается с буквы 'к', а в имени есть буква 'е'."
      ]
    },
    {
      "cell_type": "code",
      "metadata": {
        "id": "_0dw3OJm3f3v",
        "outputId": "50fe0e63-d673-49c0-8c04-3df54e27a8e3",
        "colab": {
          "base_uri": "https://localhost:8080/",
          "height": 137
        }
      },
      "source": [
        "%%sql\n",
        "select * from students\n",
        "where secondName like 'К%' and name like '%е%' or name like '%E%';"
      ],
      "execution_count": 43,
      "outputs": [
        {
          "output_type": "stream",
          "name": "stdout",
          "text": [
            " * sqlite://\n",
            "Done.\n"
          ]
        },
        {
          "output_type": "execute_result",
          "data": {
            "text/plain": [
              "[(8, 'Петр', 'Киселев', 3, '05-25', 3.5),\n",
              " (11, 'Екатерина', 'Комарова', 6, '02-25', 4.83),\n",
              " (20, 'Евгения', 'Котова', 3, '05-25', 4.29)]"
            ],
            "text/html": [
              "<table>\n",
              "    <thead>\n",
              "        <tr>\n",
              "            <th>student_id</th>\n",
              "            <th>name</th>\n",
              "            <th>secondName</th>\n",
              "            <th>speciality_id</th>\n",
              "            <th>studyGroup</th>\n",
              "            <th>GPA</th>\n",
              "        </tr>\n",
              "    </thead>\n",
              "    <tbody>\n",
              "        <tr>\n",
              "            <td>8</td>\n",
              "            <td>Петр</td>\n",
              "            <td>Киселев</td>\n",
              "            <td>3</td>\n",
              "            <td>05-25</td>\n",
              "            <td>3.5</td>\n",
              "        </tr>\n",
              "        <tr>\n",
              "            <td>11</td>\n",
              "            <td>Екатерина</td>\n",
              "            <td>Комарова</td>\n",
              "            <td>6</td>\n",
              "            <td>02-25</td>\n",
              "            <td>4.83</td>\n",
              "        </tr>\n",
              "        <tr>\n",
              "            <td>20</td>\n",
              "            <td>Евгения</td>\n",
              "            <td>Котова</td>\n",
              "            <td>3</td>\n",
              "            <td>05-25</td>\n",
              "            <td>4.29</td>\n",
              "        </tr>\n",
              "    </tbody>\n",
              "</table>"
            ]
          },
          "metadata": {},
          "execution_count": 43
        }
      ]
    },
    {
      "cell_type": "markdown",
      "metadata": {
        "id": "0TS2W3aV3f3v"
      },
      "source": [
        "## Задание 4. Вывести специальности (+ их средние баллы), количество групп в которых больше одной"
      ]
    },
    {
      "cell_type": "code",
      "metadata": {
        "collapsed": true,
        "id": "uRgmhus13f3w",
        "outputId": "49aeadd8-0630-4918-d5d5-5d4bd7f42bf0",
        "colab": {
          "base_uri": "https://localhost:8080/",
          "height": 157
        }
      },
      "source": [
        "%%sql\n",
        "select sp.name, avg(st.GPA) as average_GPA, count(distinct st.studyGroup) as group_count from Specialities sp join students st\n",
        "on sp.id = st.speciality_id\n",
        "group by sp.name\n",
        "having count(distinct st.studyGroup) > 1;"
      ],
      "execution_count": 44,
      "outputs": [
        {
          "output_type": "stream",
          "name": "stdout",
          "text": [
            " * sqlite://\n",
            "Done.\n"
          ]
        },
        {
          "output_type": "execute_result",
          "data": {
            "text/plain": [
              "[('Биотехнические системы и технологии', 4.303333333333334, 2),\n",
              " ('Информационная безопасность телекоммуникационных систем', 4.336666666666667, 2),\n",
              " ('Компьютерная безопасность', 4.306666666666667, 3),\n",
              " ('Системный анализ и управление', 4.196666666666666, 2)]"
            ],
            "text/html": [
              "<table>\n",
              "    <thead>\n",
              "        <tr>\n",
              "            <th>name</th>\n",
              "            <th>average_GPA</th>\n",
              "            <th>group_count</th>\n",
              "        </tr>\n",
              "    </thead>\n",
              "    <tbody>\n",
              "        <tr>\n",
              "            <td>Биотехнические системы и технологии</td>\n",
              "            <td>4.303333333333334</td>\n",
              "            <td>2</td>\n",
              "        </tr>\n",
              "        <tr>\n",
              "            <td>Информационная безопасность телекоммуникационных систем</td>\n",
              "            <td>4.336666666666667</td>\n",
              "            <td>2</td>\n",
              "        </tr>\n",
              "        <tr>\n",
              "            <td>Компьютерная безопасность</td>\n",
              "            <td>4.306666666666667</td>\n",
              "            <td>3</td>\n",
              "        </tr>\n",
              "        <tr>\n",
              "            <td>Системный анализ и управление</td>\n",
              "            <td>4.196666666666666</td>\n",
              "            <td>2</td>\n",
              "        </tr>\n",
              "    </tbody>\n",
              "</table>"
            ]
          },
          "metadata": {},
          "execution_count": 44
        }
      ]
    },
    {
      "cell_type": "markdown",
      "metadata": {
        "id": "msNP-JhP3f3w"
      },
      "source": [
        "## Задание 5. Для всех специальностей вывести средний балл по специальности для студентов, в чьей фамилия вторая буква НЕ 'а', при условии, что количество таких студентов на специальности не менее 2. В обратном случае, специальность выводить не требуется"
      ]
    },
    {
      "cell_type": "code",
      "metadata": {
        "id": "XvQ0SwGB3f3w",
        "outputId": "9cac0418-84c5-49ce-f19c-5ae688af6763",
        "colab": {
          "base_uri": "https://localhost:8080/",
          "height": 178
        }
      },
      "source": [
        "%%sql\n",
        "select sp.name, avg(st.GPA) AS average_GPA_for_students from Specialities sp join students st\n",
        "on sp.id = st.speciality_id\n",
        "where st.SecondName not like '_a%'\n",
        "group by sp.id, sp.name\n",
        "having count(st.student_id) >= 2;"
      ],
      "execution_count": 45,
      "outputs": [
        {
          "output_type": "stream",
          "name": "stdout",
          "text": [
            " * sqlite://\n",
            "Done.\n"
          ]
        },
        {
          "output_type": "execute_result",
          "data": {
            "text/plain": [
              "[('Биотехнические системы и технологии', 4.303333333333334),\n",
              " ('Компьютерная безопасность', 4.306666666666667),\n",
              " ('Прикладная математика и информатика', 3.8633333333333333),\n",
              " ('Системный анализ и управление', 4.196666666666666),\n",
              " ('Информационная безопасность телекоммуникационных систем', 4.336666666666667)]"
            ],
            "text/html": [
              "<table>\n",
              "    <thead>\n",
              "        <tr>\n",
              "            <th>name</th>\n",
              "            <th>average_GPA_for_students</th>\n",
              "        </tr>\n",
              "    </thead>\n",
              "    <tbody>\n",
              "        <tr>\n",
              "            <td>Биотехнические системы и технологии</td>\n",
              "            <td>4.303333333333334</td>\n",
              "        </tr>\n",
              "        <tr>\n",
              "            <td>Компьютерная безопасность</td>\n",
              "            <td>4.306666666666667</td>\n",
              "        </tr>\n",
              "        <tr>\n",
              "            <td>Прикладная математика и информатика</td>\n",
              "            <td>3.8633333333333333</td>\n",
              "        </tr>\n",
              "        <tr>\n",
              "            <td>Системный анализ и управление</td>\n",
              "            <td>4.196666666666666</td>\n",
              "        </tr>\n",
              "        <tr>\n",
              "            <td>Информационная безопасность телекоммуникационных систем</td>\n",
              "            <td>4.336666666666667</td>\n",
              "        </tr>\n",
              "    </tbody>\n",
              "</table>"
            ]
          },
          "metadata": {},
          "execution_count": 45
        }
      ]
    }
  ]
}